{
 "cells": [
  {
   "cell_type": "markdown",
   "metadata": {},
   "source": [
    "# Audio steganography in Python"
   ]
  },
  {
   "cell_type": "markdown",
   "metadata": {},
   "source": [
    "#### Import Necessary Files"
   ]
  },
  {
   "cell_type": "code",
   "execution_count": 3,
   "metadata": {},
   "outputs": [],
   "source": [
    "import wave\n",
    "from IPython.display import Audio\n",
    "import multiprocessing\n",
    "from playsound import playsound"
   ]
  },
  {
   "cell_type": "markdown",
   "metadata": {},
   "source": [
    "#### Function to Convert Binary Bits to String"
   ]
  },
  {
   "cell_type": "code",
   "execution_count": 4,
   "metadata": {},
   "outputs": [],
   "source": [
    "#function to convert binary to deciaml and then decimal to string\n",
    "def fin_msg(list):\n",
    "    list1 = []\n",
    "    \n",
    "    lenght = len(list)\n",
    "    \n",
    "    index = 0\n",
    "    while(index < lenght):\n",
    "        i = 0\n",
    "        temp = []\n",
    "        while(i < 8):\n",
    "            temp.append(list[index])\n",
    "            index+=1\n",
    "            i+=1\n",
    "        res = int(\"\".join(str(x) for x in temp), 2)\n",
    "        list1.append(res)\n",
    "        #print(res)\n",
    "    \n",
    "    #int to char\n",
    "    length2 = len(list1)\n",
    "    for i in range(length2):\n",
    "        t = list1[i]\n",
    "        list1[i] = chr(list1[i])\n",
    "    return \"\".join(list1)"
   ]
  },
  {
   "cell_type": "markdown",
   "metadata": {},
   "source": [
    "### Decoding Function : -"
   ]
  },
  {
   "cell_type": "code",
   "execution_count": 5,
   "metadata": {},
   "outputs": [],
   "source": [
    "#function to decode message from encoded audio\n",
    "def decode(aud, key, size):\n",
    "    \n",
    "    #get audio into byteArray\n",
    "    frame_bytes = bytearray(list(aud.readframes(aud.getnframes())))\n",
    "    \n",
    "    #convert byteArray to list\n",
    "    aud_list = list(frame_bytes)\n",
    "    \n",
    "    #Extract message from encoded audio\n",
    "    dMsg = []\n",
    "    i = 0\n",
    "    while(i < size):\n",
    "        dMsg.insert(len(dMsg), (aud_list[i + key] % 2))\n",
    "        i+=1\n",
    "    \n",
    "    #print and check raw message\n",
    "    msg = fin_msg(dMsg)\n",
    "    print('Decode Message is :: ' + msg)    "
   ]
  },
  {
   "cell_type": "markdown",
   "metadata": {},
   "source": [
    "### Encoding Function : -"
   ]
  },
  {
   "cell_type": "code",
   "execution_count": 6,
   "metadata": {},
   "outputs": [],
   "source": [
    "def encoding(aud):\n",
    "    \n",
    "    #get audio into byteArray\n",
    "    frame_bytes = bytearray(list(aud.readframes(aud.getnframes())))\n",
    "    \n",
    "    #convert byteArray to list\n",
    "    aud_list = list(frame_bytes)\n",
    "    \n",
    "    #to check whether audio has been converted to list or not\n",
    "    \"\"\"for i in range(10):\n",
    "        print(aud_list[i])\"\"\"\n",
    "    \n",
    "    #Enter a valid length message\n",
    "    aud_lenght = len(aud_list)\n",
    "    print('Enter the Sectet Message :: ')\n",
    "    msg = input()\n",
    "    print('Enter a Numeric Key / Password :: ')\n",
    "    key = input()\n",
    "    key = int(key)\n",
    "    msgSize = len(msg)\n",
    "    while ((msgSize * 8) > (aud_lenght // key)):\n",
    "        print('Try a Smaller Sectet Message Again :: ')\n",
    "        msg = input()\n",
    "        msgSize = len(msg)\n",
    "    \n",
    "    #convert message into list of single bit\n",
    "    msg_bits = list(map(int, ''.join([bin(ord(i)).lstrip('0b').rjust(8,'0') for i in msg])))\n",
    "    \n",
    "    #to check whether message has been converted to bit or not\n",
    "    \"\"\"for i in msg_bits:\n",
    "        print(i)\"\"\"\n",
    "    \n",
    "    #Encoding of message into audio\n",
    "    msg_bits_size = len(msg_bits)\n",
    "    i = 0\n",
    "    while (i < msg_bits_size):\n",
    "        if ((aud_list[i + key] % 2 == 0) and (msg_bits[i] == 1)):\n",
    "            aud_list[i + key] += 1\n",
    "        elif ((aud_list[i + key] % 2 == 1) and (msg_bits[i] == 0)):\n",
    "            aud_list[i + key] -= 1\n",
    "        \n",
    "        i+=1\n",
    "    \n",
    "    #convert modified list into byteArray\n",
    "    \n",
    "    frame_modified = bytes(aud_list)\n",
    "    \n",
    "    #make a new audio file with modified frame\n",
    "    with wave.open('output.wav', 'wb') as fd:\n",
    "        fd.setparams(aud.getparams())\n",
    "        fd.writeframes(frame_modified)\n",
    "    aud.close()\n",
    "    return len(msg_bits)"
   ]
  },
  {
   "cell_type": "markdown",
   "metadata": {},
   "source": [
    "## Driver Code : -"
   ]
  },
  {
   "cell_type": "raw",
   "metadata": {},
   "source": [
    "-----------------------------------------------------------HINT----------------------------------------------------------------\n",
    "Original Audio File Name : RANJEET KUMAR - cover_audio.wav\n",
    "Modified Audio File Name : output.wav"
   ]
  },
  {
   "cell_type": "code",
   "execution_count": 12,
   "metadata": {},
   "outputs": [
    {
     "name": "stdout",
     "output_type": "stream",
     "text": [
      "Enter 1 for Encryption & 2 for Decryption : \n",
      "1\n",
      "Enter Path of Audio to be Encoded with Extension :: \n",
      "RANJEET KUMAR - cover_audio.wav\n",
      "_.._ Playing Original Audio _.._\n",
      "press ENTER to stop playback\n",
      "Enter the Sectet Message :: \n",
      "RANJEET KUMAR - cover_audio.wavRANJEET KUMAR - cover_audio.wavRANJEET KUMAR - cover_audio.wavRANJEET KUMAR - cover_audio.wavRANJEET KUMAR - cover_audio.wavRANJEET KUMAR - cover_audio.wavRANJEET KUMAR - cover_audio.wavRANJEET KUMAR - cover_audio.wavRANJEET KUMAR - cover_audio.wavRANJEET KUMAR - cover_audio.wavRANJEET KUMAR - cover_audio.wavRANJEET KUMAR - cover_audio.wavRANJEET KUMAR - cover_audio.wavRANJEET KUMAR - cover_audio.wavRANJEET KUMAR - cover_audio.wavRANJEET KUMAR - cover_audio.wavRANJEET KUMAR - cover_audio.wavRANJEET KUMAR - cover_audio.wavRANJEET KUMAR - cover_audio.wavRANJEET KUMAR - cover_audio.wavRANJEET KUMAR - cover_audio.wavRANJEET KUMAR - cover_audio.wavRANJEET KUMAR - cover_audio.wavRANJEET KUMAR - cover_audio.wavRANJEET KUMAR - cover_audio.wavRANJEET KUMAR - cover_audio.wavRANJEET KUMAR - cover_audio.wavRANJEET KUMAR - cover_audio.wavRANJEET KUMAR - cover_audio.wavRANJEET KUMAR - cover_audio.wavRANJEET KUMAR - cover_audio.wavRANJEET KUMAR - cover_audio.wavRANJEET KUMAR - cover_audio.wavRANJEET KUMAR - cover_audio.wavRANJEET KUMAR - cover_audio.wavRANJEET KUMAR - cover_audio.wavRANJEET KUMAR - cover_audio.wavRANJEET KUMAR - cover_audio.wavRANJEET KUMAR - cover_audio.wavRANJEET KUMAR - cover_audio.wavRANJEET KUMAR - cover_audio.wavRANJEET KUMAR - cover_audio.wavRANJEET KUMAR - cover_audio.wavRANJEET KUMAR - cover_audio.wavRANJEET KUMAR - cover_audio.wavRANJEET KUMAR - cover_audio.wavRANJEET KUMAR - cover_audio.wavRANJEET KUMAR - cover_audio.wavRANJEET KUMAR - cover_audio.wavRANJEET KUMAR - cover_audio.wavRANJEET KUMAR - cover_audio.wavRANJEET KUMAR - cover_audio.wavRANJEET KUMAR - cover_audio.wavRANJEET KUMAR - cover_audio.wavRANJEET KUMAR - cover_audio.wavRANJEET KUMAR - cover_audio.wavRANJEET KUMAR - cover_audio.wavRANJEET KUMAR - cover_audio.wavRANJEET KUMAR - cover_audio.wavRANJEET KUMAR - cover_audio.wavRANJEET KUMAR - cover_audio.wavRANJEET KUMAR - cover_audio.wavRANJEET KUMAR - cover_audio.wavRANJEET KUMAR - cover_audio.wavRANJEET KUMAR - cover_audio.wavRANJEET KUMAR - cover_audio.wavRANJEET KUMAR - cover_audio.wavRANJEET KUMAR - cover_audio.wavRANJEET KUMAR - cover_audio.wavRANJEET KUMAR - cover_audio.wavRANJEET KUMAR - cover_audio.wavRANJEET KUMAR - cover_audio.wavRANJEET KUMAR - cover_audio.wavRANJEET KUMAR - cover_audio.wavRANJEET KUMAR - cover_audio.wavRANJEET KUMAR - cover_audio.wavRANJEET KUMAR - cover_audio.wavRANJEET KUMAR - cover_audio.wavRANJEET KUMAR - cover_audio.wavRANJEET KUMAR - cover_audio.wavRANJEET KUMAR - cover_audio.wavRANJEET KUMAR - cover_audio.wavRANJEET KUMAR - cover_audio.wavRANJEET KUMAR - cover_audio.wavRANJEET KUMAR - cover_audio.wavRANJEET KUMAR - cover_audio.wavRANJEET KUMAR - cover_audio.wavRANJEET KUMAR - cover_audio.wavRANJEET KUMAR - cover_audio.wavRANJEET KUMAR - cover_audio.wavRANJEET KUMAR - cover_audio.wavRANJEET KUMAR - cover_audio.wavRANJEET KUMAR - cover_audio.wavRANJEET KUMAR - cover_audio.wavRANJEET KUMAR - cover_audio.wavRANJEET KUMAR - cover_audio.wavRANJEET KUMAR - cover_audio.wavRANJEET KUMAR - cover_audio.wavRANJEET KUMAR - cover_audio.wavRANJEET KUMAR - cover_audio.wavRANJEET KUMAR - cover_audio.wavRANJEET KUMAR - cover_audio.wavRANJEET KUMAR - cover_audio.wavRANJEET KUMAR - cover_audio.wavRANJEET KUMAR - cover_audio.wavRANJEET KUMAR - cover_audio.wavRANJEET KUMAR - cover_audio.wavRANJEET KUMAR - cover_audio.wavRANJEET KUMAR - cover_audio.wavRANJEET KUMAR - cover_audio.wavRANJEET KUMAR - cover_audio.wavRANJEET KUMAR - cover_audio.wavRANJEET KUMAR - cover_audio.wavRANJEET KUMAR - cover_audio.wavRANJEET KUMAR - cover_audio.wavRANJEET KUMAR - cover_audio.wavRANJEET KUMAR - cover_audio.wavRANJEET KUMAR - cover_audio.wavRANJEET KUMAR - cover_audio.wavRANJEET KUMAR - cover_audio.wavRANJEET KUMAR - cover_audio.wavRANJEET KUMAR - cover_audio.wavRANJEET KUMAR - cover_audio.wavRANJEET KUMAR - cover_audio.wavRANJEET KUMAR - cover_audio.wavRANJEET KUMAR - cover_audio.wavRANJEET KUMAR - cover_audio.wavRANJEET KUMAR - cover_audio.wavRANJEET KUMAR - cover_audio.wavRANJEET KUMAR - cover_audio.wavRANJEET KUMAR - cover_audio.wavRANJEET KUMAR - cover_audio.wavRANJEET KUMAR - cover_audio.wavRANJEET KUMAR - cover_audio.wavRANJEET KUMAR - cover_audio.wavRANJEET KUMAR - cover_audio.wavRANJEET KUMAR - cover_audio.wavRANJEET KUMAR - cover_audio.wavRANJEET KUMAR - cover_audio.wavRANJEET KUMAR - cover_audio.wavRANJEET KUMAR - cover_audio.wavRANJEET KUMAR - cover_audio.wavRANJEET KUMAR - cover_audio.wavRANJEET KUMAR - cover_audio.wavRANJEET KUMAR - cover_audio.wavRANJEET KUMAR - cover_audio.wavRANJEET KUMAR - cover_audio.wavRANJEET KUMAR - cover_audio.wavRANJEET KUMAR - cover_audio.wavRANJEET KUMAR - cover_audio.wavRANJEET KUMAR - cover_audio.wavRANJEET KUMAR - cover_audio.wavRANJEET KUMAR - cover_audio.wavRANJEET KUMAR - cover_audio.wavRANJEET KUMAR - cover_audio.wavRANJEET KUMAR - cover_audio.wavRANJEET KUMAR - cover_audio.wavRANJEET KUMAR - cover_audio.wavRANJEET KUMAR - cover_audio.wavRANJEET KUMAR - cover_audio.wavRANJEET KUMAR - cover_audio.wavRANJEET KUMAR - cover_audio.wavRANJEET KUMAR - cover_audio.wavRANJEET KUMAR - cover_audio.wavRANJEET KUMAR - cover_audio.wavRANJEET KUMAR - cover_audio.wavRANJEET KUMAR - cover_audio.wavRANJEET KUMAR - cover_audio.wavRANJEET KUMAR - cover_audio.wavRANJEET KUMAR - cover_audio.wavRANJEET KUMAR - cover_audio.wavRANJEET KUMAR - cover_audio.wavRANJEET KUMAR - cover_audio.wavRANJEET KUMAR - cover_audio.wavRANJEET KUMAR - cover_audio.wavRANJEET KUMAR - cover_audio.wavRANJEET KUMAR - cover_audio.wavRANJEET KUMAR - cover_audio.wavRANJEET KUMAR - cover_audio.wavRANJEET KUMAR - cover_audio.wavRANJEET KUMAR - cover_audio.wavRANJEET KUMAR - cover_audio.wavRANJEET KUMAR - cover_audio.wavRANJEET KUMAR - cover_audio.wavRANJEET KUMAR - cover_audio.wavRANJEET KUMAR - cover_audio.wavRANJEET KUMAR - cover_audio.wavRANJEET KUMAR - cover_audio.wavRANJEET KUMAR - cover_audio.wavRANJEET KUMAR - cover_audio.wavRANJEET KUMAR - cover_audio.wavRANJEET KUMAR - cover_audio.wavRANJEET KUMAR - cover_audio.wavRANJEET KUMAR - cover_audio.wavRANJEET KUMAR - cover_audio.wavRANJEET KUMAR - cover_audio.wavRANJEET KUMAR - cover_audio.wavRANJEET KUMAR - cover_audio.wavRANJEET KUMAR - cover_audio.wavRANJEET KUMAR - cover_audio.wav\n",
      "Enter a Numeric Key / Password :: \n",
      "2\n",
      "Do You Want to Decode it ? (Y\\N)\n",
      "y\n",
      "Enter Path of Encoded Audio file with Extension to Decode :: \n",
      "output.wav\n",
      "_.._ Playing Encoded Audio _.._\n",
      "press ENTER to stop playback\n",
      "Enter Your Key / Password :: \n",
      "2\n",
      "Decode Message is :: RANJEET KUMAR - cover_audio.wavRANJEET KUMAR - cover_audio.wavRANJEET KUMAR - cover_audio.wavRANJEET KUMAR - cover_audio.wavRANJEET KUMAR - cover_audio.wavRANJEET KUMAR - cover_audio.wavRANJEET KUMAR - cover_audio.wavRANJEET KUMAR - cover_audio.wavRANJEET KUMAR - cover_audio.wavRANJEET KUMAR - cover_audio.wavRANJEET KUMAR - cover_audio.wavRANJEET KUMAR - cover_audio.wavRANJEET KUMAR - cover_audio.wavRANJEET KUMAR - cover_audio.wavRANJEET KUMAR - cover_audio.wavRANJEET KUMAR - cover_audio.wavRANJEET KUMAR - cover_audio.wavRANJEET KUMAR - cover_audio.wavRANJEET KUMAR - cover_audio.wavRANJEET KUMAR - cover_audio.wavRANJEET KUMAR - cover_audio.wavRANJEET KUMAR - cover_audio.wavRANJEET KUMAR - cover_audio.wavRANJEET KUMAR - cover_audio.wavRANJEET KUMAR - cover_audio.wavRANJEET KUMAR - cover_audio.wavRANJEET KUMAR - cover_audio.wavRANJEET KUMAR - cover_audio.wavRANJEET KUMAR - cover_audio.wavRANJEET KUMAR - cover_audio.wavRANJEET KUMAR - cover_audio.wavRANJEET KUMAR - cover_audio.wavRANJEET KUMAR - cover_audio.wavRANJEET KUMAR - cover_audio.wavRANJEET KUMAR - cover_audio.wavRANJEET KUMAR - cover_audio.wavRANJEET KUMAR - cover_audio.wavRANJEET KUMAR - cover_audio.wavRANJEET KUMAR - cover_audio.wavRANJEET KUMAR - cover_audio.wavRANJEET KUMAR - cover_audio.wavRANJEET KUMAR - cover_audio.wavRANJEET KUMAR - cover_audio.wavRANJEET KUMAR - cover_audio.wavRANJEET KUMAR - cover_audio.wavRANJEET KUMAR - cover_audio.wavRANJEET KUMAR - cover_audio.wavRANJEET KUMAR - cover_audio.wavRANJEET KUMAR - cover_audio.wavRANJEET KUMAR - cover_audio.wavRANJEET KUMAR - cover_audio.wavRANJEET KUMAR - cover_audio.wavRANJEET KUMAR - cover_audio.wavRANJEET KUMAR - cover_audio.wavRANJEET KUMAR - cover_audio.wavRANJEET KUMAR - cover_audio.wavRANJEET KUMAR - cover_audio.wavRANJEET KUMAR - cover_audio.wavRANJEET KUMAR - cover_audio.wavRANJEET KUMAR - cover_audio.wavRANJEET KUMAR - cover_audio.wavRANJEET KUMAR - cover_audio.wavRANJEET KUMAR - cover_audio.wavRANJEET KUMAR - cover_audio.wavRANJEET KUMAR - cover_audio.wavRANJEET KUMAR - cover_audio.wavRANJEET KUMAR - cover_audio.wavRANJEET KUMAR - cover_audio.wavRANJEET KUMAR - cover_audio.wavRANJEET KUMAR - cover_audio.wavRANJEET KUMAR - cover_audio.wavRANJEET KUMAR - cover_audio.wavRANJEET KUMAR - cover_audio.wavRANJEET KUMAR - cover_audio.wavRANJEET KUMAR - cover_audio.wavRANJEET KUMAR - cover_audio.wavRANJEET KUMAR - cover_audio.wavRANJEET KUMAR - cover_audio.wavRANJEET KUMAR - cover_audio.wavRANJEET KUMAR - cover_audio.wavRANJEET KUMAR - cover_audio.wavRANJEET KUMAR - cover_audio.wavRANJEET KUMAR - cover_audio.wavRANJEET KUMAR - cover_audio.wavRANJEET KUMAR - cover_audio.wavRANJEET KUMAR - cover_audio.wavRANJEET KUMAR - cover_audio.wavRANJEET KUMAR - cover_audio.wavRANJEET KUMAR - cover_audio.wavRANJEET KUMAR - cover_audio.wavRANJEET KUMAR - cover_audio.wavRANJEET KUMAR - cover_audio.wavRANJEET KUMAR - cover_audio.wavRANJEET KUMAR - cover_audio.wavRANJEET KUMAR - cover_audio.wavRANJEET KUMAR - cover_audio.wavRANJEET KUMAR - cover_audio.wavRANJEET KUMAR - cover_audio.wavRANJEET KUMAR - cover_audio.wavRANJEET KUMAR - cover_audio.wavRANJEET KUMAR - cover_audio.wavRANJEET KUMAR - cover_audio.wavRANJEET KUMAR - cover_audio.wavRANJEET KUMAR - cover_audio.wavRANJEET KUMAR - cover_audio.wavRANJEET KUMAR - cover_audio.wavRANJEET KUMAR - cover_audio.wavRANJEET KUMAR - cover_audio.wavRANJEET KUMAR - cover_audio.wavRANJEET KUMAR - cover_audio.wavRANJEET KUMAR - cover_audio.wavRANJEET KUMAR - cover_audio.wavRANJEET KUMAR - cover_audio.wavRANJEET KUMAR - cover_audio.wavRANJEET KUMAR - cover_audio.wavRANJEET KUMAR - cover_audio.wavRANJEET KUMAR - cover_audio.wavRANJEET KUMAR - cover_audio.wavRANJEET KUMAR - cover_audio.wavRANJEET KUMAR - cover_audio.wavRANJEET KUMAR - cover_audio.wavRANJEET KUMAR - cover_audio.wavRANJEET KUMAR - cover_audio.wavRANJEET KUMAR - cover_audio.wavRANJEET KUMAR - cover_audio.wavRANJEET KUMAR - cover_audio.wavRANJEET KUMAR - cover_audio.wavRANJEET KUMAR - cover_audio.wavRANJEET KUMAR - cover_audio.wavRANJEET KUMAR - cover_audio.wavRANJEET KUMAR - cover_audio.wavRANJEET KUMAR - cover_audio.wavRANJEET KUMAR - cover_audio.wavRANJEET KUMAR - cover_audio.wavRANJEET KUMAR - cover_audio.wavRANJEET KUMAR - cover_audio.wavRANJEET KUMAR - cover_audio.wavRANJEET KUMAR - cover_audio.wavRANJEET KUMAR - cover_audio.wavRANJEET KUMAR - cover_audio.wavRANJEET KUMAR - cover_audio.wavRANJEET KUMAR - cover_audio.wavRANJEET KUMAR - cover_audio.wavRANJEET KUMAR - cover_audio.wavRANJEET KUMAR - cover_audio.wavRANJEET KUMAR - cover_audio.wavRANJEET KUMAR - cover_audio.wavRANJEET KUMAR - cover_audio.wavRANJEET KUMAR - cover_audio.wavRANJEET KUMAR - cover_audio.wavRANJEET KUMAR - cover_audio.wavRANJEET KUMAR - cover_audio.wavRANJEET KUMAR - cover_audio.wavRANJEET KUMAR - cover_audio.wavRANJEET KUMAR - cover_audio.wavRANJEET KUMAR - cover_audio.wavRANJEET KUMAR - cover_audio.wavRANJEET KUMAR - cover_audio.wavRANJEET KUMAR - cover_audio.wavRANJEET KUMAR - cover_audio.wavRANJEET KUMAR - cover_audio.wavRANJEET KUMAR - cover_audio.wavRANJEET KUMAR - cover_audio.wavRANJEET KUMAR - cover_audio.wavRANJEET KUMAR - cover_audio.wavRANJEET KUMAR - cover_audio.wavRANJEET KUMAR - cover_audio.wavRANJEET KUMAR - cover_audio.wavRANJEET KUMAR - cover_audio.wavRANJEET KUMAR - cover_audio.wavRANJEET KUMAR - cover_audio.wavRANJEET KUMAR - cover_audio.wavRANJEET KUMAR - cover_audio.wavRANJEET KUMAR - cover_audio.wavRANJEET KUMAR - cover_audio.wavRANJEET KUMAR - cover_audio.wavRANJEET KUMAR - cover_audio.wavRANJEET KUMAR - cover_audio.wavRANJEET KUMAR - cover_audio.wavRANJEET KUMAR - cover_audio.wavRANJEET KUMAR - cover_audio.wavRANJEET KUMAR - cover_audio.wavRANJEET KUMAR - cover_audio.wavRANJEET KUMAR - cover_audio.wavRANJEET KUMAR - cover_audio.wavRANJEET KUMAR - cover_audio.wavRANJEET KUMAR - cover_audio.wavRANJEET KUMAR - cover_audio.wavRANJEET KUMAR - cover_audio.wavRANJEET KUMAR - cover_audio.wavRANJEET KUMAR - cover_audio.wavRANJEET KUMAR - cover_audio.wavRANJEET KUMAR - cover_audio.wavRANJEET KUMAR - cover_audio.wavRANJEET KUMAR - cover_audio.wavRANJEET KUMAR - cover_audio.wavRANJEET KUMAR - cover_audio.wavRANJEET KUMAR - cover_audio.wavRANJEET KUMAR - cover_audio.wavRANJEET KUMAR - cover_audio.wav\n"
     ]
    }
   ],
   "source": [
    "print(\"Enter 1 for Encryption & 2 for Decryption : \")\n",
    "opt  = input()\n",
    "opt = int(opt)\n",
    "\n",
    "n = 0\n",
    "\n",
    "if(opt == 1):\n",
    "    \n",
    "    #read audio file\n",
    "    print('Enter Path of Audio to be Encoded with Extension :: ')\n",
    "    aud = wave.open(input() , mode = 'rb')\n",
    "\n",
    "    #playing original audio\n",
    "    print('_.._ Playing Original Audio _.._')\n",
    "    p = multiprocessing.Process(target=playsound, args=('input.wav',))\n",
    "    p.start()\n",
    "    input(\"press ENTER to stop playback\")\n",
    "    p.terminate()\n",
    "\n",
    "    #call encoding\n",
    "    n = encoding(aud) #called to encode\n",
    "    \n",
    "    print('Do You Want to Decode it ? (Y\\\\N)')\n",
    "    ans = input()\n",
    "    if (ans == 'y' or ans == 'Y'):\n",
    "        \n",
    "        #call Decoding to Decode the message\n",
    "        print('Enter Path of Encoded Audio file with Extension to Decode :: ')\n",
    "        enc_aud = wave.open(input() , mode = 'rb')\n",
    "\n",
    "        #Playing Encoded Audio\n",
    "        print('_.._ Playing Encoded Audio _.._')\n",
    "        p = multiprocessing.Process(target=playsound, args=('output.wav',))\n",
    "        p.start()\n",
    "        input(\"press ENTER to stop playback\")\n",
    "        p.terminate()\n",
    "\n",
    "        print('Enter Your Key / Password :: ')\n",
    "        key = input()\n",
    "        key = int(key)\n",
    "\n",
    "        #call decoding\n",
    "        decode(enc_aud, key, n) #Called to decode\n",
    "        \n",
    "    else:\n",
    "        print(\"Program Closed!\")\n",
    "    \n",
    "elif (opt == 2):\n",
    "    \n",
    "    #call Decoding to Decode the message\n",
    "    print('Enter Path of Encoded Audio file with Extension to Decode :: ')\n",
    "    enc_aud = wave.open(input() , mode = 'rb')\n",
    "\n",
    "    #Playing Encoded Audio\n",
    "    print('_.._ Playing Encoded Audio _.._')\n",
    "    p = multiprocessing.Process(target=playsound, args=('output.wav',))\n",
    "    p.start()\n",
    "    input(\"press ENTER to stop playback\")\n",
    "    p.terminate()\n",
    "\n",
    "    print('Enter Your Key / Password :: ')\n",
    "    key = input()\n",
    "    key = int(key)\n",
    "\n",
    "    #call decoding\n",
    "    decode(enc_aud, key, n) #Called to decode\n",
    "    \n",
    "else:\n",
    "    print(\"Sorry! Try Again!!\")"
   ]
  },
  {
   "cell_type": "code",
   "execution_count": null,
   "metadata": {},
   "outputs": [],
   "source": []
  },
  {
   "cell_type": "code",
   "execution_count": null,
   "metadata": {},
   "outputs": [],
   "source": []
  },
  {
   "cell_type": "code",
   "execution_count": null,
   "metadata": {},
   "outputs": [],
   "source": []
  }
 ],
 "metadata": {
  "kernelspec": {
   "display_name": "Python 3",
   "language": "python",
   "name": "python3"
  },
  "language_info": {
   "codemirror_mode": {
    "name": "ipython",
    "version": 3
   },
   "file_extension": ".py",
   "mimetype": "text/x-python",
   "name": "python",
   "nbconvert_exporter": "python",
   "pygments_lexer": "ipython3",
   "version": "3.7.3"
  }
 },
 "nbformat": 4,
 "nbformat_minor": 2
}
