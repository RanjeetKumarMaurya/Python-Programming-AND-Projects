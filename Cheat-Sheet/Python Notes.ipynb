{
 "cells": [
  {
   "cell_type": "markdown",
   "metadata": {},
   "source": [
    "# Python Cheatheet :-"
   ]
  },
  {
   "cell_type": "raw",
   "metadata": {},
   "source": [
    "Python is a powerful programming language used in various applications like - \n",
    "    .Web development\n",
    "    .Mathematics\n",
    "    .Software Development\n",
    "    .Handling Big Data. etc..\n",
    "    \n",
    "Benefit of python are -\n",
    "    .Fewer line of code\n",
    "    .Rich APIs\n",
    "    .Code can be write and run together (Work as interpreter)\n",
    "    .Can be treated as Procedural, Functional, or, OOps\n",
    "    \n",
    "PYTHON RELY ON IDENTATION (WHITE SPACE) to define scope of a LOOP, FUNCTION, and, CLASS"
   ]
  },
  {
   "cell_type": "code",
   "execution_count": 1,
   "metadata": {},
   "outputs": [],
   "source": [
    "# print(\"Hello World!\")"
   ]
  },
  {
   "cell_type": "code",
   "execution_count": 2,
   "metadata": {},
   "outputs": [
    {
     "name": "stdout",
     "output_type": "stream",
     "text": [
      "You are right!\n"
     ]
    }
   ],
   "source": [
    "#Python need identation\n",
    "if 2 < 5:\n",
    "            print(\"You are right!\")"
   ]
  },
  {
   "cell_type": "markdown",
   "metadata": {},
   "source": [
    "# Comments in Python"
   ]
  },
  {
   "cell_type": "code",
   "execution_count": 3,
   "metadata": {},
   "outputs": [],
   "source": [
    "#I am a comment"
   ]
  },
  {
   "cell_type": "code",
   "execution_count": 4,
   "metadata": {},
   "outputs": [
    {
     "data": {
      "text/plain": [
       "'\\nYou might be wondering\\nbut both of us are a multiline comment\\nimplemented in different way\\n'"
      ]
     },
     "execution_count": 4,
     "metadata": {},
     "output_type": "execute_result"
    }
   ],
   "source": [
    "#I am a part of\n",
    "#Multiline comments\n",
    "#Really\n",
    "\n",
    "\n",
    "\"\"\"\n",
    "You might be wondering\n",
    "but both of us are a multiline comment\n",
    "implemented in different way\n",
    "\"\"\""
   ]
  },
  {
   "cell_type": "markdown",
   "metadata": {},
   "source": [
    "# Python Variable"
   ]
  },
  {
   "cell_type": "code",
   "execution_count": 5,
   "metadata": {},
   "outputs": [
    {
     "name": "stdout",
     "output_type": "stream",
     "text": [
      "5\n",
      "\u0003\n",
      "3\n"
     ]
    }
   ],
   "source": [
    "#Python varible type decides after assigning value to it, it can even change later\n",
    "\n",
    "variable = 5\n",
    "print(variable)\n",
    "\n",
    "x = chr(3)\n",
    "y = str(3)\n",
    "print(x)\n",
    "print(y)"
   ]
  },
  {
   "cell_type": "code",
   "execution_count": 6,
   "metadata": {},
   "outputs": [
    {
     "name": "stdout",
     "output_type": "stream",
     "text": [
      "<class 'str'>\n",
      "<class 'str'>\n",
      "<class 'int'>\n"
     ]
    }
   ],
   "source": [
    "#type is used to check python variable\n",
    "print(type(x))\n",
    "print(type(y))\n",
    "print(type(variable))"
   ]
  },
  {
   "cell_type": "code",
   "execution_count": 7,
   "metadata": {},
   "outputs": [
    {
     "name": "stdout",
     "output_type": "stream",
     "text": [
      "10\n",
      "20\n",
      "30\n",
      "10\n",
      "10\n",
      "10\n",
      "10\n",
      "20\n",
      "30\n",
      "40\n"
     ]
    }
   ],
   "source": [
    "#multiple assignment can happen in python\n",
    "p ,q , r = 10, 20, 30\n",
    "print(p)\n",
    "print(q)\n",
    "print(r)\n",
    "\n",
    "#single value assignment to multiple variable\n",
    "s = t = u = 10\n",
    "print(s)\n",
    "print(t)\n",
    "print(u)\n",
    "\n",
    "#unpack a collection\n",
    "val = [10, 20, 30, 40]\n",
    "a, b, c, d = val\n",
    "print(a)\n",
    "print(b)\n",
    "print(c)\n",
    "print(d)"
   ]
  },
  {
   "cell_type": "code",
   "execution_count": 8,
   "metadata": {},
   "outputs": [
    {
     "name": "stdout",
     "output_type": "stream",
     "text": [
      "My Name is Ranjeet\n"
     ]
    }
   ],
   "source": [
    "temp = 'Ranjeet'\n",
    "print('My Name is '+temp)"
   ]
  },
  {
   "cell_type": "code",
   "execution_count": 9,
   "metadata": {},
   "outputs": [
    {
     "name": "stdout",
     "output_type": "stream",
     "text": [
      "138\n",
      "10\n"
     ]
    }
   ],
   "source": [
    "#global variable can be declare using global keywor or uotside function\n",
    "\n",
    "imGlobal = 10\n",
    "if(10 < 12):\n",
    "    global var\n",
    "    var = 138\n",
    "print(var)\n",
    "print(imGlobal)"
   ]
  },
  {
   "cell_type": "markdown",
   "metadata": {},
   "source": [
    "# Data Type in Python"
   ]
  },
  {
   "cell_type": "raw",
   "metadata": {},
   "source": [
    "Data Type in the Python are decided at the time of assignment"
   ]
  },
  {
   "cell_type": "raw",
   "metadata": {},
   "source": [
    "Text Type:\tstr\n",
    "Numeric Types:\tint, float, complex\n",
    "Sequence Types:\tlist, tuple, range\n",
    "Mapping Type:\tdict\n",
    "Set Types:\tset, frozenset\n",
    "Boolean Type:\tbool\n",
    "Binary Types:\tbytes, bytearray, memoryview"
   ]
  },
  {
   "cell_type": "raw",
   "metadata": {},
   "source": [
    "Set the specific data type"
   ]
  },
  {
   "cell_type": "code",
   "execution_count": 10,
   "metadata": {},
   "outputs": [],
   "source": [
    "x = str(\"Hello World\")\n",
    "x = int(20)\n",
    "x = float(20.5)\n",
    "x = complex(1j)\n",
    "x = list((\"apple\", \"banana\", \"cherry\"))\n",
    "x = tuple((\"apple\", \"banana\", \"cherry\"))\n",
    "x = range(6)\n",
    "x = dict(name=\"John\", age=36)\n",
    "x = set((\"apple\", \"banana\", \"cherry\"))\n",
    "x = frozenset((\"apple\", \"banana\", \"cherry\"))\n",
    "x = bool(5)\n",
    "x = bytes(5)\n",
    "x = bytearray(5)\n",
    "x = memoryview(bytes(5))"
   ]
  },
  {
   "cell_type": "code",
   "execution_count": 11,
   "metadata": {},
   "outputs": [],
   "source": [
    "#Illustration"
   ]
  },
  {
   "cell_type": "markdown",
   "metadata": {},
   "source": [
    "### Number in Python"
   ]
  },
  {
   "cell_type": "code",
   "execution_count": 12,
   "metadata": {},
   "outputs": [
    {
     "name": "stdout",
     "output_type": "stream",
     "text": [
      "10\n",
      "23.45\n",
      "(10+5j)\n",
      "(10+0j)\n"
     ]
    }
   ],
   "source": [
    "x = 10\n",
    "y = 23.45\n",
    "z = 10 + 5j\n",
    "\n",
    "print(x) #integer\n",
    "print(y) # Float\n",
    "print(z) # Complex\n",
    "\n",
    "a = complex(10)\n",
    "print(a)"
   ]
  },
  {
   "cell_type": "markdown",
   "metadata": {},
   "source": [
    "### Random Number in Python"
   ]
  },
  {
   "cell_type": "markdown",
   "metadata": {},
   "source": [
    "Python has random module to generate a random number"
   ]
  },
  {
   "cell_type": "code",
   "execution_count": 13,
   "metadata": {},
   "outputs": [
    {
     "name": "stdout",
     "output_type": "stream",
     "text": [
      "2\n"
     ]
    }
   ],
   "source": [
    "import random\n",
    "a = random.randrange(1,10)\n",
    "print(a)"
   ]
  },
  {
   "cell_type": "markdown",
   "metadata": {},
   "source": [
    "### String in Python"
   ]
  },
  {
   "cell_type": "code",
   "execution_count": 14,
   "metadata": {},
   "outputs": [
    {
     "name": "stdout",
     "output_type": "stream",
     "text": [
      "Hello\n",
      "Hello\n",
      "I am multi line string\n",
      "assigned to a variable, yes I am allowed\n"
     ]
    }
   ],
   "source": [
    "a = 'Hello'\n",
    "b = \"Hello\"\n",
    "c = \"\"\"I am multi line string\n",
    "assigned to a variable, yes I am allowed\"\"\"\n",
    "print(a)\n",
    "print(b)\n",
    "print(c)"
   ]
  },
  {
   "cell_type": "raw",
   "metadata": {},
   "source": [
    "String are array of character"
   ]
  },
  {
   "cell_type": "code",
   "execution_count": 15,
   "metadata": {},
   "outputs": [
    {
     "name": "stdout",
     "output_type": "stream",
     "text": [
      "a\n",
      "I\n",
      " \n",
      "a\n",
      "m\n",
      " \n",
      "a\n",
      "r\n",
      "r\n",
      "a\n",
      "y\n"
     ]
    }
   ],
   "source": [
    "a = 'I am array'\n",
    "\n",
    "size = len(a)\n",
    "print(a[2])\n",
    "\n",
    "for i in range(size):\n",
    "    print(a[i])"
   ]
  },
  {
   "cell_type": "markdown",
   "metadata": {},
   "source": [
    "#### in String"
   ]
  },
  {
   "cell_type": "code",
   "execution_count": 16,
   "metadata": {},
   "outputs": [
    {
     "name": "stdout",
     "output_type": "stream",
     "text": [
      "True\n",
      "False\n"
     ]
    }
   ],
   "source": [
    "a = 'Ranjeet Kumar'\n",
    "print('jeet' in a) #to check if text is present\n",
    "print('jeet' not in a) # check if not present"
   ]
  },
  {
   "cell_type": "markdown",
   "metadata": {},
   "source": [
    "### Important operation on String in Python"
   ]
  },
  {
   "cell_type": "code",
   "execution_count": 17,
   "metadata": {},
   "outputs": [
    {
     "name": "stdout",
     "output_type": "stream",
     "text": [
      "Ranjeet Kumar\n",
      "Ranj\n",
      "njeet K\n",
      "njeet Kumar\n",
      "um\n",
      "RANJEET KUMAR\n",
      "ranjeet kumar\n",
      "Ranjeet Kumar\n",
      "Rankeet Kumar\n"
     ]
    }
   ],
   "source": [
    "text  = 'Ranjeet Kumar'\n",
    "\n",
    "print(text) #Entire string\n",
    "print(text[:4]) #Slice 4 length from starting\n",
    "print(text[2:9]) #Slice from index 2 to less than 9\n",
    "print(text[2:]) # from index 2 to last\n",
    "print(text[-4:-2]) #Starts slicing from 4th element from end to 2nd\n",
    "print(text.upper()) #To print string in upper case\n",
    "print(text.lower()) #To print element in Lower case\n",
    "print(text.strip()) #Remove space from begining or end\n",
    "print(text.replace('j', 'k')) #"
   ]
  },
  {
   "cell_type": "markdown",
   "metadata": {},
   "source": [
    "###### List from String by spliting it"
   ]
  },
  {
   "cell_type": "code",
   "execution_count": 18,
   "metadata": {},
   "outputs": [
    {
     "name": "stdout",
     "output_type": "stream",
     "text": [
      "['I', 'Am', 'Ranjeet', 'Kumar']\n"
     ]
    }
   ],
   "source": [
    "msg = 'I,Am,Ranjeet,Kumar'\n",
    "x = list(msg.split(\",\"))\n",
    "print(x)"
   ]
  },
  {
   "cell_type": "code",
   "execution_count": 19,
   "metadata": {},
   "outputs": [
    {
     "name": "stdout",
     "output_type": "stream",
     "text": [
      "Hi Ranjeet Kumar\n"
     ]
    }
   ],
   "source": [
    "#concatation of string\n",
    "text1 = 'Hi'\n",
    "text2 = 'Ranjeet'\n",
    "text3 = \"Kumar\"\n",
    "print(text1 + \" \" + text2 + \" \" + text3)"
   ]
  },
  {
   "cell_type": "code",
   "execution_count": 20,
   "metadata": {},
   "outputs": [
    {
     "name": "stdout",
     "output_type": "stream",
     "text": [
      "I am no 3\n"
     ]
    }
   ],
   "source": [
    "#concatation of number and string are not posible\n",
    "a = 3\n",
    "text = \"I am no \"\n",
    "#print(text + a) #will generate an error\n",
    "\n",
    "b = \"3\"\n",
    "print(text + b) #string concatanation is possible"
   ]
  },
  {
   "cell_type": "code",
   "execution_count": 21,
   "metadata": {},
   "outputs": [
    {
     "name": "stdout",
     "output_type": "stream",
     "text": [
      "My name is Ranjeet Kumar, I am 24 year old and 5.8 feet tall.\n"
     ]
    }
   ],
   "source": [
    "# We can combine string with other data type with the help of format\n",
    "#format method (format()) takes unlimited number of argument\n",
    "#it places the argument at placeholder {}\n",
    "age = 24\n",
    "height = 5.8\n",
    "name = 'Ranjeet Kumar'\n",
    "\n",
    "msg = \"My name is {}, I am {} year old and {} feet tall.\" #Use placeholder in varibale to concat\n",
    "#print message by passing #argument equal to the #placeholder\n",
    "print(msg.format(name, age, height))"
   ]
  },
  {
   "cell_type": "markdown",
   "metadata": {},
   "source": [
    "##### Escape Character"
   ]
  },
  {
   "cell_type": "raw",
   "metadata": {},
   "source": [
    "The character which are a part of inbuilt programming language can not be printed directly, to print these letter use escape \"\\\""
   ]
  },
  {
   "cell_type": "code",
   "execution_count": 22,
   "metadata": {},
   "outputs": [
    {
     "name": "stdout",
     "output_type": "stream",
     "text": [
      "\n",
      "\"\n",
      "''\n",
      "\n",
      "'\n"
     ]
    }
   ],
   "source": [
    "print(\"\"\"\"\"\") # nothing will print\n",
    "\n",
    "print(\"\\\"\") #one double quote will print\n",
    "print(\"''\")\n",
    "print('''''') #nothing will print\n",
    "print('\\'') #one single quote will print"
   ]
  },
  {
   "cell_type": "markdown",
   "metadata": {},
   "source": [
    "##### Some important character not allowed to print directly"
   ]
  },
  {
   "cell_type": "raw",
   "metadata": {},
   "source": [
    "\\'     Single Quote\n",
    "\\\\     Backslash\n",
    "\\n     New Line\n",
    "\\r     Carriage Return\n",
    "\\t     Tab\n",
    "\\b     Backspace\n",
    "\\f     Form Feed\n",
    "\\ooo   Octal value\n",
    "\\xhh   Hex value"
   ]
  },
  {
   "cell_type": "markdown",
   "metadata": {},
   "source": [
    "#### Some important string methods"
   ]
  },
  {
   "cell_type": "code",
   "execution_count": 23,
   "metadata": {},
   "outputs": [
    {
     "name": "stdout",
     "output_type": "stream",
     "text": [
      "3\n",
      "2\n",
      "i am ranjeet kumar\n",
      "I AM RANJEET KUMAR\n",
      "I am Ranjeet Kumar\n",
      "I mm Rmnjeet Kummr\n",
      "0000000I am Ranjeet Kumar\n"
     ]
    }
   ],
   "source": [
    "text  = 'I am Ranjeet Kumar'\n",
    "\n",
    "print(text.count('a')) #Count and return #times occurence of an element\n",
    "print(text.find('a')) #Returns the index of specific character\n",
    "print(text.lower()) #convert string into lower case\n",
    "print(text.upper()) #convert string into ipper case\n",
    "print(text.translate(\"Hindi\")) #convert string into lower case\n",
    "print(text.replace('a', 'm')) #replace a specofoc element with other given element\n",
    "print(text.zfill(25))  #fills begining of string with zeros to get the specific lenght"
   ]
  },
  {
   "cell_type": "raw",
   "metadata": {},
   "source": [
    "\"join\" method (Joins the elements of an iterable to the end of the string)"
   ]
  },
  {
   "cell_type": "code",
   "execution_count": 24,
   "metadata": {},
   "outputs": [
    {
     "data": {
      "text/plain": [
       "'I   a m   R a n j e e t   K u m a r'"
      ]
     },
     "execution_count": 24,
     "metadata": {},
     "output_type": "execute_result"
    }
   ],
   "source": [
    "\" \".join(text) "
   ]
  },
  {
   "cell_type": "code",
   "execution_count": 25,
   "metadata": {},
   "outputs": [
    {
     "data": {
      "text/plain": [
       "'1Number 0Number 1Number 0Number 2'"
      ]
     },
     "execution_count": 25,
     "metadata": {},
     "output_type": "execute_result"
    }
   ],
   "source": [
    "list1 = ['1','0','1', '0', '2',]\n",
    "list2 = []\n",
    "\"Number \".join(list1)"
   ]
  },
  {
   "cell_type": "markdown",
   "metadata": {},
   "source": [
    "### Boolean in Python"
   ]
  },
  {
   "cell_type": "raw",
   "metadata": {},
   "source": [
    ".Almost every value is considered as True except : Empty (), {}, [], \"\", 0 and None\n",
    ".False is also evaluated as False"
   ]
  },
  {
   "cell_type": "code",
   "execution_count": 26,
   "metadata": {},
   "outputs": [
    {
     "name": "stdout",
     "output_type": "stream",
     "text": [
      "False\n"
     ]
    }
   ],
   "source": [
    "print(bool([]))"
   ]
  },
  {
   "cell_type": "markdown",
   "metadata": {},
   "source": [
    "# Python Operator"
   ]
  },
  {
   "cell_type": "raw",
   "metadata": {},
   "source": [
    "Arithmetic :: +(Add) | -(sub) | *(mul) | /(div) | **(exponential) | //(floor division)"
   ]
  },
  {
   "cell_type": "code",
   "execution_count": 27,
   "metadata": {},
   "outputs": [
    {
     "data": {
      "text/plain": [
       "81"
      ]
     },
     "execution_count": 27,
     "metadata": {},
     "output_type": "execute_result"
    }
   ],
   "source": [
    "3 ** 4"
   ]
  },
  {
   "cell_type": "raw",
   "metadata": {},
   "source": [
    "Assignment :: =, -=, +=, /=, *=, **=, //=, %=, &=, !=, |=, ^=, >>=, <<="
   ]
  },
  {
   "cell_type": "code",
   "execution_count": 28,
   "metadata": {},
   "outputs": [
    {
     "name": "stdout",
     "output_type": "stream",
     "text": [
      "125\n"
     ]
    }
   ],
   "source": [
    "a = 5\n",
    "a**=3\n",
    "print(a)"
   ]
  },
  {
   "cell_type": "raw",
   "metadata": {},
   "source": [
    "Comparison Operator :: Use to compare two value :: == (Equal), !=(not equal), <(less than), >(greater than), <=(less than or equal to), >=(greater than or equal to)"
   ]
  },
  {
   "cell_type": "code",
   "execution_count": 29,
   "metadata": {},
   "outputs": [
    {
     "data": {
      "text/plain": [
       "False"
      ]
     },
     "execution_count": 29,
     "metadata": {},
     "output_type": "execute_result"
    }
   ],
   "source": [
    "5 > 6"
   ]
  },
  {
   "cell_type": "raw",
   "metadata": {},
   "source": [
    "Logical Operator :: Use to combine conditional statement :: and, or, not"
   ]
  },
  {
   "cell_type": "code",
   "execution_count": 30,
   "metadata": {},
   "outputs": [
    {
     "name": "stdout",
     "output_type": "stream",
     "text": [
      "True\n"
     ]
    }
   ],
   "source": [
    "print(5 > 2 and 7 < 9)"
   ]
  },
  {
   "cell_type": "raw",
   "metadata": {},
   "source": [
    "Python Identity Operator :: Used to compare objects :: is, is not"
   ]
  },
  {
   "cell_type": "code",
   "execution_count": 31,
   "metadata": {},
   "outputs": [
    {
     "name": "stdout",
     "output_type": "stream",
     "text": [
      "False\n",
      "True\n"
     ]
    },
    {
     "name": "stderr",
     "output_type": "stream",
     "text": [
      "<>:1: SyntaxWarning: \"is\" with a literal. Did you mean \"==\"?\n",
      "<>:2: SyntaxWarning: \"is not\" with a literal. Did you mean \"!=\"?\n",
      "<>:1: SyntaxWarning: \"is\" with a literal. Did you mean \"==\"?\n",
      "<>:2: SyntaxWarning: \"is not\" with a literal. Did you mean \"!=\"?\n",
      "<ipython-input-31-905bd89490f9>:1: SyntaxWarning: \"is\" with a literal. Did you mean \"==\"?\n",
      "  print(5 is 6)\n",
      "<ipython-input-31-905bd89490f9>:2: SyntaxWarning: \"is not\" with a literal. Did you mean \"!=\"?\n",
      "  print(5 is not 6)\n"
     ]
    }
   ],
   "source": [
    "print(5 is 6)\n",
    "print(5 is not 6)"
   ]
  },
  {
   "cell_type": "raw",
   "metadata": {},
   "source": [
    "Python Membership Operator :: Use to check sequence :: in, not in"
   ]
  },
  {
   "cell_type": "code",
   "execution_count": 32,
   "metadata": {},
   "outputs": [
    {
     "name": "stdout",
     "output_type": "stream",
     "text": [
      "True\n",
      "False\n"
     ]
    }
   ],
   "source": [
    "text  = 'I am Ranjeet Kumar'\n",
    "print('Ran' in text)\n",
    "print(\"Ran\" not in text)"
   ]
  },
  {
   "cell_type": "raw",
   "metadata": {},
   "source": [
    "Python Bitwise Operator :: Perform Operation at Bit Level :: &(and), |(or), ~(not), ^(xor), <<(left shift), >>(right shift)"
   ]
  },
  {
   "cell_type": "code",
   "execution_count": 34,
   "metadata": {},
   "outputs": [
    {
     "data": {
      "text/plain": [
       "320"
      ]
     },
     "execution_count": 34,
     "metadata": {},
     "output_type": "execute_result"
    }
   ],
   "source": [
    "5 << 6"
   ]
  },
  {
   "cell_type": "markdown",
   "metadata": {},
   "source": [
    "# Python Collection (Array)"
   ]
  },
  {
   "cell_type": "markdown",
   "metadata": {},
   "source": [
    "# List in Python"
   ]
  },
  {
   "cell_type": "raw",
   "metadata": {},
   "source": [
    "List is a store room use to store multiple value in a single variable\n",
    "Written using square bracket.\n",
    "List element are mutable"
   ]
  },
  {
   "cell_type": "code",
   "execution_count": 35,
   "metadata": {},
   "outputs": [],
   "source": [
    "mylist = ['I', 'am', 38, 'year', 'old'] #changable and allow duplicates"
   ]
  },
  {
   "cell_type": "code",
   "execution_count": 36,
   "metadata": {},
   "outputs": [
    {
     "data": {
      "text/plain": [
       "['I', 'am', 38, 'year', 'old']"
      ]
     },
     "execution_count": 36,
     "metadata": {},
     "output_type": "execute_result"
    }
   ],
   "source": [
    "mylist"
   ]
  },
  {
   "cell_type": "raw",
   "metadata": {},
   "source": [
    "\"()\" Is list constructor"
   ]
  },
  {
   "cell_type": "code",
   "execution_count": 37,
   "metadata": {},
   "outputs": [],
   "source": [
    "mylist2 = list(('Hi', 'I', 'am', 'Ranjeet', 'Kumar'))"
   ]
  },
  {
   "cell_type": "code",
   "execution_count": 38,
   "metadata": {},
   "outputs": [
    {
     "data": {
      "text/plain": [
       "['Hi', 'I', 'am', 'Ranjeet', 'Kumar']"
      ]
     },
     "execution_count": 38,
     "metadata": {},
     "output_type": "execute_result"
    }
   ],
   "source": [
    "mylist2"
   ]
  },
  {
   "cell_type": "code",
   "execution_count": 39,
   "metadata": {},
   "outputs": [
    {
     "name": "stdout",
     "output_type": "stream",
     "text": [
      "I\n",
      "Kumar\n",
      "Ranjeet\n",
      "['am']\n",
      "['Hi', 'I', 'am']\n",
      "['am', 'Ranjeet', 'Kumar']\n",
      "['Ranjeet']\n",
      "[]\n"
     ]
    }
   ],
   "source": [
    "print(mylist2[1]) #element present at index 1\n",
    "print(mylist2[-1]) #last element\n",
    "print(mylist2[-2]) #second element from last\n",
    "print(mylist2[2:3]) #start from 2 but do not include 3\n",
    "print(mylist2[:3]) #starting to 3\n",
    "print(mylist2[2:]) #Starting from 2 to last\n",
    "print(mylist2[-2: -1]) #from second last to last (exclusing last)\n",
    "print(mylist2[-2:1]) #from second last to begining which will be invalid bcz it is not circular so will return empty list"
   ]
  },
  {
   "cell_type": "code",
   "execution_count": 40,
   "metadata": {},
   "outputs": [
    {
     "data": {
      "text/plain": [
       "False"
      ]
     },
     "execution_count": 40,
     "metadata": {},
     "output_type": "execute_result"
    }
   ],
   "source": [
    "'ranjeet' in mylist2 #check if a value present in list"
   ]
  },
  {
   "cell_type": "code",
   "execution_count": 41,
   "metadata": {},
   "outputs": [
    {
     "data": {
      "text/plain": [
       "['Hi', 'I', 'is', 'Ranjeet', 'Kumar']"
      ]
     },
     "execution_count": 41,
     "metadata": {},
     "output_type": "execute_result"
    }
   ],
   "source": [
    "mylist2[2] = 'is' #replace/update a value\n",
    "mylist2"
   ]
  },
  {
   "cell_type": "code",
   "execution_count": 42,
   "metadata": {},
   "outputs": [
    {
     "data": {
      "text/plain": [
       "['Hi', 'I', 'is', 'sohan', 'Kumar']"
      ]
     },
     "execution_count": 42,
     "metadata": {},
     "output_type": "execute_result"
    }
   ],
   "source": [
    "mylist2[2:4] = 'is', 'sohan' #update in a range\n",
    "mylist2"
   ]
  },
  {
   "cell_type": "raw",
   "metadata": {},
   "source": [
    "Insert value at index i  without replacing:"
   ]
  },
  {
   "cell_type": "code",
   "execution_count": 43,
   "metadata": {},
   "outputs": [
    {
     "data": {
      "text/plain": [
       "['Hi', 'I', 'are', 'is', 'sohan', 'Kumar']"
      ]
     },
     "execution_count": 43,
     "metadata": {},
     "output_type": "execute_result"
    }
   ],
   "source": [
    "mylist2.insert(2, 'are') #\n",
    "mylist2"
   ]
  },
  {
   "cell_type": "code",
   "execution_count": 44,
   "metadata": {},
   "outputs": [
    {
     "name": "stdout",
     "output_type": "stream",
     "text": [
      "['Hi', 'I', 'are', 'is', 'sohan', 'Kumar', 5]\n"
     ]
    }
   ],
   "source": [
    "mylist2.append(5) #add value at the last of list\n",
    "print(mylist2)"
   ]
  },
  {
   "cell_type": "raw",
   "metadata": {},
   "source": [
    "Extend list : list2 will be appended to last1 (list, tuple, dictionary anything can be added)"
   ]
  },
  {
   "cell_type": "code",
   "execution_count": 45,
   "metadata": {},
   "outputs": [
    {
     "name": "stdout",
     "output_type": "stream",
     "text": [
      "['Hi', 'I', 'are', 'is', 'sohan', 'Kumar', 5, 'I', 'am', 38, 'year', 'old']\n"
     ]
    }
   ],
   "source": [
    "mylist2.extend(mylist)\n",
    "print(mylist2)"
   ]
  },
  {
   "cell_type": "markdown",
   "metadata": {},
   "source": [
    "##### Remove List Item"
   ]
  },
  {
   "cell_type": "code",
   "execution_count": 46,
   "metadata": {},
   "outputs": [],
   "source": [
    "mylist = ['Ram', 'Shyam', 'Mohan', 5, 6.7, True, 'Hi', \"Bi\"]"
   ]
  },
  {
   "cell_type": "code",
   "execution_count": 47,
   "metadata": {},
   "outputs": [
    {
     "name": "stdout",
     "output_type": "stream",
     "text": [
      "['Ram', 'Shyam', 'Mohan', 6.7, True, 'Hi', 'Bi']\n",
      "['Ram', 'Shyam', 6.7, True, 'Hi', 'Bi']\n",
      "['Ram', 'Shyam', 6.7, 'Hi', 'Bi']\n",
      "[]\n"
     ]
    }
   ],
   "source": [
    "mylist.remove(5) #Delete specific element but not index wise\n",
    "print(mylist)\n",
    "\n",
    "mylist.pop(2) #Delete specific index value, by default last element if index not given\n",
    "print(mylist)\n",
    "\n",
    "del mylist[3] #delete specific index, also can delete entire list completely\n",
    "print(mylist)\n",
    "\n",
    "mylist.clear() #It clear the list and make it empty\n",
    "print(mylist)\n",
    "\n",
    "del mylist\n",
    "#print(mylist) #Will give error because mylist has been deleted"
   ]
  },
  {
   "cell_type": "markdown",
   "metadata": {},
   "source": [
    "#### Iterate Through a List"
   ]
  },
  {
   "cell_type": "code",
   "execution_count": 48,
   "metadata": {},
   "outputs": [],
   "source": [
    "mylist = ['Hi', 'Bi', 'I', 'am', 'Ranjeet']"
   ]
  },
  {
   "cell_type": "code",
   "execution_count": 49,
   "metadata": {},
   "outputs": [
    {
     "name": "stdout",
     "output_type": "stream",
     "text": [
      "Hi\n",
      "Bi\n",
      "I\n",
      "am\n",
      "Ranjeet\n"
     ]
    }
   ],
   "source": [
    "for i in mylist: #For all element in the list\n",
    "    print(i)"
   ]
  },
  {
   "cell_type": "code",
   "execution_count": 50,
   "metadata": {},
   "outputs": [
    {
     "name": "stdout",
     "output_type": "stream",
     "text": [
      "Hi\n",
      "Bi\n",
      "I\n",
      "am\n",
      "Ranjeet\n"
     ]
    }
   ],
   "source": [
    "for i in range(len(mylist)): #To access element in a specific range\n",
    "    print(mylist[i])"
   ]
  },
  {
   "cell_type": "code",
   "execution_count": 51,
   "metadata": {},
   "outputs": [
    {
     "name": "stdout",
     "output_type": "stream",
     "text": [
      "Hi\n",
      "Bi\n",
      "I\n",
      "am\n",
      "Ranjeet\n"
     ]
    },
    {
     "data": {
      "text/plain": [
       "[None, None, None, None, None]"
      ]
     },
     "execution_count": 51,
     "metadata": {},
     "output_type": "execute_result"
    }
   ],
   "source": [
    "[print(x) for x in mylist]"
   ]
  },
  {
   "cell_type": "markdown",
   "metadata": {},
   "source": [
    "#### List comprehension"
   ]
  },
  {
   "cell_type": "raw",
   "metadata": {},
   "source": [
    "List comprehension facilitate to create a new list from existing list in shorter way"
   ]
  },
  {
   "cell_type": "raw",
   "metadata": {},
   "source": [
    "Signature :: newlist = [expression for item in iterable (existing list) if condition == True]"
   ]
  },
  {
   "cell_type": "code",
   "execution_count": 57,
   "metadata": {},
   "outputs": [
    {
     "name": "stdout",
     "output_type": "stream",
     "text": [
      "['I', 'am', 'Ranjeet', 'Kumar']\n"
     ]
    }
   ],
   "source": [
    "list1 = ['I', 'am', 'Ranjeet', 'Kumar']\n",
    "list2 = [x for x in list1]\n",
    "print(list2)"
   ]
  },
  {
   "cell_type": "markdown",
   "metadata": {},
   "source": [
    "#### Sorting List in Python"
   ]
  },
  {
   "cell_type": "code",
   "execution_count": 74,
   "metadata": {},
   "outputs": [
    {
     "name": "stdout",
     "output_type": "stream",
     "text": [
      "['I', 'Kumar', 'Ranjeet', 'am']\n",
      "[23, 24, 38, 45, 55, 79]\n",
      "[79, 55, 45, 38, 24, 23]\n",
      "['am', 'I', 'Kumar', 'Ranjeet']\n"
     ]
    }
   ],
   "source": [
    "list1 = ['I', 'am', 'Ranjeet', 'Kumar']\n",
    "list1.sort() #Sort alphanumeric and it is case sensitive (Upper case before Lower case), By default in ascending order\n",
    "print(list1)\n",
    "\n",
    "list1 = [38,55,23,45,79,24]\n",
    "list1.sort()\n",
    "print(list1)\n",
    "\n",
    "list1.sort(reverse = True) #Sort in descending order\n",
    "print(list1)\n",
    "\n",
    "list1 = ['I', 'am', 'Ranjeet', 'Kumar'] #case sensitive will result inappropriate\n",
    "list1.sort(key=str.lower)\n",
    "print(list1)"
   ]
  },
  {
   "cell_type": "code",
   "execution_count": 75,
   "metadata": {},
   "outputs": [
    {
     "name": "stdout",
     "output_type": "stream",
     "text": [
      "[55, 45, 38, 24, 23, 79]\n"
     ]
    }
   ],
   "source": [
    "#costomising order\n",
    "def myOrder(n):\n",
    "    return abs(n - 50) #how far a number is from 50\n",
    "list1 = [38,55,23,45,79,24]\n",
    "list1.sort(key=myOrder)\n",
    "print(list1)"
   ]
  },
  {
   "cell_type": "code",
   "execution_count": 78,
   "metadata": {},
   "outputs": [
    {
     "name": "stdout",
     "output_type": "stream",
     "text": [
      "['Kumar', 'Ranjeet', 'am', 'I']\n"
     ]
    }
   ],
   "source": [
    "list1 = ['I', 'am', 'Ranjeet', 'Kumar']\n",
    "list1.reverse()\n",
    "print(list1)"
   ]
  },
  {
   "cell_type": "markdown",
   "metadata": {},
   "source": [
    "#### Copy a List"
   ]
  },
  {
   "cell_type": "code",
   "execution_count": 80,
   "metadata": {},
   "outputs": [
    {
     "name": "stdout",
     "output_type": "stream",
     "text": [
      "['I', 'am', 'Ranjeet', 'Kumar']\n",
      "['I', 'am', 'Ranjeet', 'Kumar', 123]\n"
     ]
    }
   ],
   "source": [
    "\"\"\"\n",
    "List1 = ['I', 'am', 'Ranjeet', 'Kumar']\n",
    "list2 = list1 #By doing this we are only giving reference to list 2, if we make change to list1 it will also reflect in list2\n",
    "\"\"\"\n",
    "\n",
    "list1 = ['I', 'am', 'Ranjeet', 'Kumar']\n",
    "list2 = list1.copy() #copy content of list1 to list2\n",
    "print(list2)\n",
    "\n",
    "list1 = ['I', 'am', 'Ranjeet', 'Kumar', 123]\n",
    "list2 = list(list1)\n",
    "print(list2)"
   ]
  },
  {
   "cell_type": "markdown",
   "metadata": {},
   "source": [
    "#### Join List"
   ]
  },
  {
   "cell_type": "code",
   "execution_count": 83,
   "metadata": {},
   "outputs": [
    {
     "name": "stdout",
     "output_type": "stream",
     "text": [
      "['I', 'am', 'Ranjeet', 'Kumar', 24, 242, 444, 44, 3]\n",
      "['I', 'am', 'Ranjeet', 'Kumar', 24, 242, 444, 44, 3, 'I', 'am', 'Ranjeet', 'Kumar']\n",
      "['I', 'am', 'Ranjeet', 'Kumar', 24, 242, 444, 44, 3, 'I', 'am', 'Ranjeet', 'Kumar', 'I', 'am', 'Ranjeet', 'Kumar']\n"
     ]
    }
   ],
   "source": [
    "list1 = ['I', 'am', 'Ranjeet', 'Kumar']\n",
    "list2 = [24,242,444,44,3]\n",
    "\n",
    "#Method 1\n",
    "list2 = list1 + list2\n",
    "print(list2)\n",
    "\n",
    "#Method 2 (append element one by one)\n",
    "for i in list1:\n",
    "    list2.append(i)\n",
    "print(list2)\n",
    "\n",
    "#Method 3 (extend list)\n",
    "list2.extend(list1)\n",
    "print(list2)"
   ]
  },
  {
   "cell_type": "markdown",
   "metadata": {},
   "source": [
    "### List methods"
   ]
  },
  {
   "cell_type": "raw",
   "metadata": {},
   "source": [
    "append()    #Adds an element at the end of the list\n",
    "clear()     #Removes all the elements from the list\n",
    "copy()      #Returns a copy of the list\n",
    "count()     #Returns the number of elements with the specified value\n",
    "extend()    #Add the elements of a list (or any iterable), to the end of the current list\n",
    "index()     #Returns the index of the first element with the specified value\n",
    "insert()    #Adds an element at the specified position\n",
    "pop()       #Removes the element at the specified position\n",
    "remove()    #Removes the item with the specified value\n",
    "reverse()   #Reverses the order of the list\n",
    "sort()      #Sorts the list"
   ]
  },
  {
   "cell_type": "markdown",
   "metadata": {},
   "source": [
    "# Python Tuples"
   ]
  },
  {
   "cell_type": "raw",
   "metadata": {},
   "source": [
    ".Tuples used to store multiple items in a single variable.\n",
    ".Tuples element Ordered are immutable in nature\n",
    ".Tuples are written innround bracket\n",
    ".Tuples allow Duplicates"
   ]
  },
  {
   "cell_type": "code",
   "execution_count": 97,
   "metadata": {},
   "outputs": [],
   "source": [
    "mytuple = ('I','am','Ranjeet','Kumar','24') #creating tuples\n",
    "singleValueTuple = ('Hi',) #Remember to add comma (,) after inserting value otherwise list won't be created"
   ]
  },
  {
   "cell_type": "code",
   "execution_count": 98,
   "metadata": {},
   "outputs": [
    {
     "name": "stdout",
     "output_type": "stream",
     "text": [
      "5\n",
      "<class 'tuple'>\n"
     ]
    }
   ],
   "source": [
    "print(len(mytuple)) #find length of tuple\n",
    "print(type(mytuple)) #data type of tuple"
   ]
  },
  {
   "cell_type": "code",
   "execution_count": 99,
   "metadata": {},
   "outputs": [
    {
     "name": "stdout",
     "output_type": "stream",
     "text": [
      "Kumar\n",
      "Kumar\n",
      "('Ranjeet', 'Kumar', '24')\n",
      "True\n"
     ]
    }
   ],
   "source": [
    "print(mytuple[3])  #access 3rd index of tuples\n",
    "print(mytuple[-2]) #access second last\n",
    "print(mytuple[2:5])  #access range of tuple, starts from 2nd index but not including 5th index\n",
    "print('Kumar' in mytuple)  #check if particular element exists"
   ]
  },
  {
   "cell_type": "raw",
   "metadata": {},
   "source": [
    "Updating Tuple is not possible, we can do it by changing it into list then make change and in the last convert in back into tuple"
   ]
  },
  {
   "cell_type": "code",
   "execution_count": 100,
   "metadata": {},
   "outputs": [],
   "source": [
    "del mytuple\n",
    "#print(mytuple) #will raise an error"
   ]
  },
  {
   "cell_type": "code",
   "execution_count": null,
   "metadata": {},
   "outputs": [],
   "source": []
  }
 ],
 "metadata": {
  "kernelspec": {
   "display_name": "Python 3",
   "language": "python",
   "name": "python3"
  },
  "language_info": {
   "codemirror_mode": {
    "name": "ipython",
    "version": 3
   },
   "file_extension": ".py",
   "mimetype": "text/x-python",
   "name": "python",
   "nbconvert_exporter": "python",
   "pygments_lexer": "ipython3",
   "version": "3.8.5"
  }
 },
 "nbformat": 4,
 "nbformat_minor": 2
}
